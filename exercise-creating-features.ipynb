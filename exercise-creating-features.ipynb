{
 "cells": [
  {
   "cell_type": "markdown",
   "id": "05c127e2",
   "metadata": {
    "papermill": {
     "duration": 0.011495,
     "end_time": "2023-06-11T16:23:37.158864",
     "exception": false,
     "start_time": "2023-06-11T16:23:37.147369",
     "status": "completed"
    },
    "tags": []
   },
   "source": [
    "**This notebook is an exercise in the [Feature Engineering](https://www.kaggle.com/learn/feature-engineering) course.  You can reference the tutorial at [this link](https://www.kaggle.com/ryanholbrook/creating-features).**\n",
    "\n",
    "---\n"
   ]
  },
  {
   "cell_type": "markdown",
   "id": "9d46c1ff",
   "metadata": {
    "papermill": {
     "duration": 0.007562,
     "end_time": "2023-06-11T16:23:37.174337",
     "exception": false,
     "start_time": "2023-06-11T16:23:37.166775",
     "status": "completed"
    },
    "tags": []
   },
   "source": [
    "# Introduction #\n",
    "\n",
    "In this exercise you'll start developing the features you identified in Exercise 2 as having the most potential. As you work through this exercise, you might take a moment to look at the data documentation again and consider whether the features we're creating make sense from a real-world perspective, and whether there are any useful combinations that stand out to you.\n",
    "\n",
    "Run this cell to set everything up!"
   ]
  },
  {
   "cell_type": "code",
   "execution_count": 1,
   "id": "e3f435ea",
   "metadata": {
    "execution": {
     "iopub.execute_input": "2023-06-11T16:23:37.193773Z",
     "iopub.status.busy": "2023-06-11T16:23:37.193231Z",
     "iopub.status.idle": "2023-06-11T16:23:38.887134Z",
     "shell.execute_reply": "2023-06-11T16:23:38.885939Z"
    },
    "papermill": {
     "duration": 1.708086,
     "end_time": "2023-06-11T16:23:38.890080",
     "exception": false,
     "start_time": "2023-06-11T16:23:37.181994",
     "status": "completed"
    },
    "tags": []
   },
   "outputs": [],
   "source": [
    "# Setup feedback system\n",
    "from learntools.core import binder\n",
    "binder.bind(globals())\n",
    "from learntools.feature_engineering_new.ex3 import *\n",
    "\n",
    "import numpy as np\n",
    "import pandas as pd\n",
    "from sklearn.model_selection import cross_val_score\n",
    "from xgboost import XGBRegressor\n",
    "\n",
    "\n",
    "def score_dataset(X, y, model=XGBRegressor()):\n",
    "    # Label encoding for categoricals\n",
    "    for colname in X.select_dtypes([\"category\", \"object\"]):\n",
    "        X[colname], _ = X[colname].factorize()\n",
    "    # Metric for Housing competition is RMSLE (Root Mean Squared Log Error)\n",
    "    score = cross_val_score(\n",
    "        model, X, y, cv=5, scoring=\"neg_mean_squared_log_error\",\n",
    "    )\n",
    "    score = -1 * score.mean()\n",
    "    score = np.sqrt(score)\n",
    "    return score\n",
    "\n",
    "\n",
    "# Prepare data\n",
    "df = pd.read_csv(\"../input/fe-course-data/ames.csv\")\n",
    "X = df.copy()\n",
    "y = X.pop(\"SalePrice\")"
   ]
  },
  {
   "cell_type": "markdown",
   "id": "aa1e80a1",
   "metadata": {
    "papermill": {
     "duration": 0.007491,
     "end_time": "2023-06-11T16:23:38.905207",
     "exception": false,
     "start_time": "2023-06-11T16:23:38.897716",
     "status": "completed"
    },
    "tags": []
   },
   "source": [
    "-------------------------------------------------------------------------------\n",
    "\n",
    "Let's start with a few mathematical combinations. We'll focus on features describing areas -- having the same units (square-feet) makes it easy to combine them in sensible ways. Since we're using XGBoost (a tree-based model), we'll focus on ratios and sums.\n",
    "\n",
    "# 1) Create Mathematical Transforms\n",
    "\n",
    "Create the following features:\n",
    "\n",
    "- `LivLotRatio`: the ratio of `GrLivArea` to `LotArea`\n",
    "- `Spaciousness`: the sum of `FirstFlrSF` and `SecondFlrSF` divided by `TotRmsAbvGrd`\n",
    "- `TotalOutsideSF`: the sum of `WoodDeckSF`, `OpenPorchSF`, `EnclosedPorch`, `Threeseasonporch`, and `ScreenPorch`"
   ]
  },
  {
   "cell_type": "code",
   "execution_count": 2,
   "id": "2633ddb4",
   "metadata": {
    "execution": {
     "iopub.execute_input": "2023-06-11T16:23:38.921497Z",
     "iopub.status.busy": "2023-06-11T16:23:38.921086Z",
     "iopub.status.idle": "2023-06-11T16:23:38.947508Z",
     "shell.execute_reply": "2023-06-11T16:23:38.946412Z"
    },
    "lines_to_next_cell": 0,
    "papermill": {
     "duration": 0.037439,
     "end_time": "2023-06-11T16:23:38.949965",
     "exception": false,
     "start_time": "2023-06-11T16:23:38.912526",
     "status": "completed"
    },
    "tags": []
   },
   "outputs": [
    {
     "data": {
      "application/javascript": [
       "parent.postMessage({\"jupyterEvent\": \"custom.exercise_interaction\", \"data\": {\"outcomeType\": 1, \"valueTowardsCompletion\": 0.2, \"interactionType\": 1, \"questionType\": 2, \"questionId\": \"1_Q1\", \"learnToolsVersion\": \"0.3.4\", \"failureMessage\": \"\", \"exceptionClass\": \"\", \"trace\": \"\"}}, \"*\")"
      ],
      "text/plain": [
       "<IPython.core.display.Javascript object>"
      ]
     },
     "metadata": {},
     "output_type": "display_data"
    },
    {
     "data": {
      "text/markdown": [
       "<span style=\"color:#33cc33\">Correct</span>"
      ],
      "text/plain": [
       "Correct"
      ]
     },
     "metadata": {},
     "output_type": "display_data"
    }
   ],
   "source": [
    "# YOUR CODE HERE\n",
    "X_1 = pd.DataFrame()  # dataframe to hold new features\n",
    "\n",
    "X_1[\"LivLotRatio\"] = df.GrLivArea / df.LotArea\n",
    "X_1[\"Spaciousness\"] = (df.FirstFlrSF + df.SecondFlrSF) / df.TotRmsAbvGrd\n",
    "X_1[\"TotalOutsideSF\"] = df.WoodDeckSF + df.OpenPorchSF + df.EnclosedPorch + df.Threeseasonporch + df.ScreenPorch\n",
    "\n",
    "\n",
    "# Check your answer\n",
    "q_1.check()"
   ]
  },
  {
   "cell_type": "code",
   "execution_count": 3,
   "id": "8252e789",
   "metadata": {
    "execution": {
     "iopub.execute_input": "2023-06-11T16:23:38.969004Z",
     "iopub.status.busy": "2023-06-11T16:23:38.968565Z",
     "iopub.status.idle": "2023-06-11T16:23:38.973413Z",
     "shell.execute_reply": "2023-06-11T16:23:38.972188Z"
    },
    "lines_to_next_cell": 0,
    "papermill": {
     "duration": 0.016263,
     "end_time": "2023-06-11T16:23:38.975684",
     "exception": false,
     "start_time": "2023-06-11T16:23:38.959421",
     "status": "completed"
    },
    "tags": []
   },
   "outputs": [],
   "source": [
    "# Lines below will give you a hint or solution code\n",
    "#q_1.hint()\n",
    "#q_1.solution()"
   ]
  },
  {
   "cell_type": "markdown",
   "id": "b19edbb3",
   "metadata": {
    "papermill": {
     "duration": 0.007475,
     "end_time": "2023-06-11T16:23:38.990931",
     "exception": false,
     "start_time": "2023-06-11T16:23:38.983456",
     "status": "completed"
    },
    "tags": []
   },
   "source": [
    "-------------------------------------------------------------------------------\n",
    "\n",
    "If you've discovered an interaction effect between a numeric feature and a categorical feature, you might want to model it explicitly using a one-hot encoding, like so:\n",
    "\n",
    "```\n",
    "# One-hot encode Categorical feature, adding a column prefix \"Cat\"\n",
    "X_new = pd.get_dummies(df.Categorical, prefix=\"Cat\")\n",
    "\n",
    "# Multiply row-by-row\n",
    "X_new = X_new.mul(df.Continuous, axis=0)\n",
    "\n",
    "# Join the new features to the feature set\n",
    "X = X.join(X_new)\n",
    "```\n",
    "\n",
    "# 2) Interaction with a Categorical\n",
    "\n",
    "We discovered an interaction between `BldgType` and `GrLivArea` in Exercise 2. Now create their interaction features."
   ]
  },
  {
   "cell_type": "code",
   "execution_count": 4,
   "id": "f811274a",
   "metadata": {
    "execution": {
     "iopub.execute_input": "2023-06-11T16:23:39.008069Z",
     "iopub.status.busy": "2023-06-11T16:23:39.007624Z",
     "iopub.status.idle": "2023-06-11T16:23:39.023550Z",
     "shell.execute_reply": "2023-06-11T16:23:39.022527Z"
    },
    "lines_to_next_cell": 0,
    "papermill": {
     "duration": 0.027514,
     "end_time": "2023-06-11T16:23:39.026119",
     "exception": false,
     "start_time": "2023-06-11T16:23:38.998605",
     "status": "completed"
    },
    "tags": []
   },
   "outputs": [
    {
     "data": {
      "application/javascript": [
       "parent.postMessage({\"jupyterEvent\": \"custom.exercise_interaction\", \"data\": {\"outcomeType\": 1, \"valueTowardsCompletion\": 0.2, \"interactionType\": 1, \"questionType\": 2, \"questionId\": \"2_Q2\", \"learnToolsVersion\": \"0.3.4\", \"failureMessage\": \"\", \"exceptionClass\": \"\", \"trace\": \"\"}}, \"*\")"
      ],
      "text/plain": [
       "<IPython.core.display.Javascript object>"
      ]
     },
     "metadata": {},
     "output_type": "display_data"
    },
    {
     "data": {
      "text/markdown": [
       "<span style=\"color:#33cc33\">Correct</span>"
      ],
      "text/plain": [
       "Correct"
      ]
     },
     "metadata": {},
     "output_type": "display_data"
    }
   ],
   "source": [
    "# YOUR CODE HERE\n",
    "# One-hot encode BldgType. Use `prefix=\"Bldg\"` in `get_dummies`\n",
    "X_2 = pd.get_dummies(df.BldgType, prefix=\"Bldg\")\n",
    "\n",
    "# Multiply\n",
    "X_2 = X_2.mul(df.GrLivArea, axis=0)\n",
    "\n",
    "# Check your answer\n",
    "q_2.check()"
   ]
  },
  {
   "cell_type": "code",
   "execution_count": 5,
   "id": "01606e78",
   "metadata": {
    "execution": {
     "iopub.execute_input": "2023-06-11T16:23:39.044789Z",
     "iopub.status.busy": "2023-06-11T16:23:39.044388Z",
     "iopub.status.idle": "2023-06-11T16:23:39.053427Z",
     "shell.execute_reply": "2023-06-11T16:23:39.052451Z"
    },
    "lines_to_next_cell": 0,
    "papermill": {
     "duration": 0.020852,
     "end_time": "2023-06-11T16:23:39.055647",
     "exception": false,
     "start_time": "2023-06-11T16:23:39.034795",
     "status": "completed"
    },
    "tags": []
   },
   "outputs": [
    {
     "data": {
      "application/javascript": [
       "parent.postMessage({\"jupyterEvent\": \"custom.exercise_interaction\", \"data\": {\"interactionType\": 2, \"questionType\": 2, \"questionId\": \"2_Q2\", \"learnToolsVersion\": \"0.3.4\", \"valueTowardsCompletion\": 0.0, \"failureMessage\": \"\", \"exceptionClass\": \"\", \"trace\": \"\", \"outcomeType\": 4}}, \"*\")"
      ],
      "text/plain": [
       "<IPython.core.display.Javascript object>"
      ]
     },
     "metadata": {},
     "output_type": "display_data"
    },
    {
     "data": {
      "text/markdown": [
       "<span style=\"color:#3366cc\">Hint:</span> Your code should look something like:\n",
       "```python\n",
       "X_2 = pd.get_dummies(____, prefix=\"Bldg\")\n",
       "X_2 = X_2.mul(____, axis=0)\n",
       "```\n"
      ],
      "text/plain": [
       "Hint: Your code should look something like:\n",
       "```python\n",
       "X_2 = pd.get_dummies(____, prefix=\"Bldg\")\n",
       "X_2 = X_2.mul(____, axis=0)\n",
       "```"
      ]
     },
     "metadata": {},
     "output_type": "display_data"
    }
   ],
   "source": [
    "# Lines below will give you a hint or solution code\n",
    "q_2.hint()\n",
    "#q_2.solution()"
   ]
  },
  {
   "cell_type": "markdown",
   "id": "7cf128b4",
   "metadata": {
    "lines_to_next_cell": 0,
    "papermill": {
     "duration": 0.008136,
     "end_time": "2023-06-11T16:23:39.072150",
     "exception": false,
     "start_time": "2023-06-11T16:23:39.064014",
     "status": "completed"
    },
    "tags": []
   },
   "source": [
    "# 3) Count Feature\n",
    "\n",
    "Let's try creating a feature that describes how many kinds of outdoor areas a dwelling has. Create a feature `PorchTypes` that counts how many of the following are greater than 0.0:\n",
    "\n",
    "```\n",
    "WoodDeckSF\n",
    "OpenPorchSF\n",
    "EnclosedPorch\n",
    "Threeseasonporch\n",
    "ScreenPorch\n",
    "```"
   ]
  },
  {
   "cell_type": "code",
   "execution_count": 6,
   "id": "86319241",
   "metadata": {
    "execution": {
     "iopub.execute_input": "2023-06-11T16:23:39.090663Z",
     "iopub.status.busy": "2023-06-11T16:23:39.090276Z",
     "iopub.status.idle": "2023-06-11T16:23:39.107334Z",
     "shell.execute_reply": "2023-06-11T16:23:39.106309Z"
    },
    "lines_to_next_cell": 0,
    "papermill": {
     "duration": 0.029067,
     "end_time": "2023-06-11T16:23:39.109583",
     "exception": false,
     "start_time": "2023-06-11T16:23:39.080516",
     "status": "completed"
    },
    "tags": []
   },
   "outputs": [
    {
     "data": {
      "application/javascript": [
       "parent.postMessage({\"jupyterEvent\": \"custom.exercise_interaction\", \"data\": {\"outcomeType\": 1, \"valueTowardsCompletion\": 0.2, \"interactionType\": 1, \"questionType\": 2, \"questionId\": \"3_Q3\", \"learnToolsVersion\": \"0.3.4\", \"failureMessage\": \"\", \"exceptionClass\": \"\", \"trace\": \"\"}}, \"*\")"
      ],
      "text/plain": [
       "<IPython.core.display.Javascript object>"
      ]
     },
     "metadata": {},
     "output_type": "display_data"
    },
    {
     "data": {
      "text/markdown": [
       "<span style=\"color:#33cc33\">Correct</span>"
      ],
      "text/plain": [
       "Correct"
      ]
     },
     "metadata": {},
     "output_type": "display_data"
    }
   ],
   "source": [
    "X_3 = pd.DataFrame()\n",
    "\n",
    "# YOUR CODE HERE\n",
    "X_3[\"PorchTypes\"] = df[[\"WoodDeckSF\",\"OpenPorchSF\",\"EnclosedPorch\",\"Threeseasonporch\",\"ScreenPorch\"]].gt(0.0).sum(axis=1)\n",
    "\n",
    "# Check your answer\n",
    "q_3.check()"
   ]
  },
  {
   "cell_type": "code",
   "execution_count": 7,
   "id": "56d4ce59",
   "metadata": {
    "execution": {
     "iopub.execute_input": "2023-06-11T16:23:39.128743Z",
     "iopub.status.busy": "2023-06-11T16:23:39.128365Z",
     "iopub.status.idle": "2023-06-11T16:23:39.133145Z",
     "shell.execute_reply": "2023-06-11T16:23:39.131828Z"
    },
    "lines_to_next_cell": 0,
    "papermill": {
     "duration": 0.017218,
     "end_time": "2023-06-11T16:23:39.135694",
     "exception": false,
     "start_time": "2023-06-11T16:23:39.118476",
     "status": "completed"
    },
    "tags": []
   },
   "outputs": [],
   "source": [
    "# Lines below will give you a hint or solution code\n",
    "#q_3.hint()\n",
    "#q_3.solution()"
   ]
  },
  {
   "cell_type": "markdown",
   "id": "ccb484fa",
   "metadata": {
    "papermill": {
     "duration": 0.008328,
     "end_time": "2023-06-11T16:23:39.152857",
     "exception": false,
     "start_time": "2023-06-11T16:23:39.144529",
     "status": "completed"
    },
    "tags": []
   },
   "source": [
    "# 4) Break Down a Categorical Feature\n",
    "\n",
    "`MSSubClass` describes the type of a dwelling:"
   ]
  },
  {
   "cell_type": "code",
   "execution_count": 8,
   "id": "d6c29022",
   "metadata": {
    "execution": {
     "iopub.execute_input": "2023-06-11T16:23:39.171889Z",
     "iopub.status.busy": "2023-06-11T16:23:39.171506Z",
     "iopub.status.idle": "2023-06-11T16:23:39.182476Z",
     "shell.execute_reply": "2023-06-11T16:23:39.181341Z"
    },
    "papermill": {
     "duration": 0.023355,
     "end_time": "2023-06-11T16:23:39.184796",
     "exception": false,
     "start_time": "2023-06-11T16:23:39.161441",
     "status": "completed"
    },
    "tags": []
   },
   "outputs": [
    {
     "data": {
      "text/plain": [
       "array(['One_Story_1946_and_Newer_All_Styles', 'Two_Story_1946_and_Newer',\n",
       "       'One_Story_PUD_1946_and_Newer',\n",
       "       'One_and_Half_Story_Finished_All_Ages', 'Split_Foyer',\n",
       "       'Two_Story_PUD_1946_and_Newer', 'Split_or_Multilevel',\n",
       "       'One_Story_1945_and_Older', 'Duplex_All_Styles_and_Ages',\n",
       "       'Two_Family_conversion_All_Styles_and_Ages',\n",
       "       'One_and_Half_Story_Unfinished_All_Ages',\n",
       "       'Two_Story_1945_and_Older', 'Two_and_Half_Story_All_Ages',\n",
       "       'One_Story_with_Finished_Attic_All_Ages',\n",
       "       'PUD_Multilevel_Split_Level_Foyer',\n",
       "       'One_and_Half_Story_PUD_All_Ages'], dtype=object)"
      ]
     },
     "execution_count": 8,
     "metadata": {},
     "output_type": "execute_result"
    }
   ],
   "source": [
    "df.MSSubClass.unique()"
   ]
  },
  {
   "cell_type": "markdown",
   "id": "5850bd2c",
   "metadata": {
    "papermill": {
     "duration": 0.008486,
     "end_time": "2023-06-11T16:23:39.202216",
     "exception": false,
     "start_time": "2023-06-11T16:23:39.193730",
     "status": "completed"
    },
    "tags": []
   },
   "source": [
    "You can see that there is a more general categorization described (roughly) by the first word of each category. Create a feature containing only these first words by splitting `MSSubClass` at the first underscore `_`. (Hint: In the `split` method use an argument `n=1`.)"
   ]
  },
  {
   "cell_type": "code",
   "execution_count": 9,
   "id": "ec84373e",
   "metadata": {
    "execution": {
     "iopub.execute_input": "2023-06-11T16:23:39.221818Z",
     "iopub.status.busy": "2023-06-11T16:23:39.221448Z",
     "iopub.status.idle": "2023-06-11T16:23:39.250069Z",
     "shell.execute_reply": "2023-06-11T16:23:39.248966Z"
    },
    "lines_to_next_cell": 0,
    "papermill": {
     "duration": 0.041485,
     "end_time": "2023-06-11T16:23:39.252510",
     "exception": false,
     "start_time": "2023-06-11T16:23:39.211025",
     "status": "completed"
    },
    "tags": []
   },
   "outputs": [
    {
     "data": {
      "application/javascript": [
       "parent.postMessage({\"jupyterEvent\": \"custom.exercise_interaction\", \"data\": {\"outcomeType\": 1, \"valueTowardsCompletion\": 0.2, \"interactionType\": 1, \"questionType\": 2, \"questionId\": \"4_Q4\", \"learnToolsVersion\": \"0.3.4\", \"failureMessage\": \"\", \"exceptionClass\": \"\", \"trace\": \"\"}}, \"*\")"
      ],
      "text/plain": [
       "<IPython.core.display.Javascript object>"
      ]
     },
     "metadata": {},
     "output_type": "display_data"
    },
    {
     "data": {
      "text/markdown": [
       "<span style=\"color:#33cc33\">Correct</span>"
      ],
      "text/plain": [
       "Correct"
      ]
     },
     "metadata": {},
     "output_type": "display_data"
    }
   ],
   "source": [
    "X_4 = pd.DataFrame()\n",
    "\n",
    "# YOUR CODE HERE\n",
    "X_4[\"MSClass\"] = df.MSSubClass.str.split(\"_\", n=1, expand=True)[0]\n",
    "\n",
    "# Check your answer\n",
    "q_4.check()"
   ]
  },
  {
   "cell_type": "code",
   "execution_count": 10,
   "id": "94886847",
   "metadata": {
    "execution": {
     "iopub.execute_input": "2023-06-11T16:23:39.272771Z",
     "iopub.status.busy": "2023-06-11T16:23:39.272386Z",
     "iopub.status.idle": "2023-06-11T16:23:39.276055Z",
     "shell.execute_reply": "2023-06-11T16:23:39.275203Z"
    },
    "lines_to_next_cell": 0,
    "papermill": {
     "duration": 0.016523,
     "end_time": "2023-06-11T16:23:39.278207",
     "exception": false,
     "start_time": "2023-06-11T16:23:39.261684",
     "status": "completed"
    },
    "tags": []
   },
   "outputs": [],
   "source": [
    "# Lines below will give you a hint or solution code\n",
    "#q_4.hint()\n",
    "#q_4.solution()"
   ]
  },
  {
   "cell_type": "markdown",
   "id": "6b5b6988",
   "metadata": {
    "papermill": {
     "duration": 0.008962,
     "end_time": "2023-06-11T16:23:39.296334",
     "exception": false,
     "start_time": "2023-06-11T16:23:39.287372",
     "status": "completed"
    },
    "tags": []
   },
   "source": [
    "# 5) Use a Grouped Transform\n",
    "\n",
    "The value of a home often depends on how it compares to typical homes in its neighborhood. Create a feature `MedNhbdArea` that describes the *median* of `GrLivArea` grouped on `Neighborhood`."
   ]
  },
  {
   "cell_type": "code",
   "execution_count": 11,
   "id": "3370c5c0",
   "metadata": {
    "execution": {
     "iopub.execute_input": "2023-06-11T16:23:39.316878Z",
     "iopub.status.busy": "2023-06-11T16:23:39.316241Z",
     "iopub.status.idle": "2023-06-11T16:23:39.334895Z",
     "shell.execute_reply": "2023-06-11T16:23:39.334002Z"
    },
    "lines_to_next_cell": 0,
    "papermill": {
     "duration": 0.031747,
     "end_time": "2023-06-11T16:23:39.337197",
     "exception": false,
     "start_time": "2023-06-11T16:23:39.305450",
     "status": "completed"
    },
    "tags": []
   },
   "outputs": [
    {
     "data": {
      "application/javascript": [
       "parent.postMessage({\"jupyterEvent\": \"custom.exercise_interaction\", \"data\": {\"outcomeType\": 1, \"valueTowardsCompletion\": 0.2, \"interactionType\": 1, \"questionType\": 2, \"questionId\": \"5_Q5\", \"learnToolsVersion\": \"0.3.4\", \"failureMessage\": \"\", \"exceptionClass\": \"\", \"trace\": \"\"}}, \"*\")"
      ],
      "text/plain": [
       "<IPython.core.display.Javascript object>"
      ]
     },
     "metadata": {},
     "output_type": "display_data"
    },
    {
     "data": {
      "text/markdown": [
       "<span style=\"color:#33cc33\">Correct</span>"
      ],
      "text/plain": [
       "Correct"
      ]
     },
     "metadata": {},
     "output_type": "display_data"
    }
   ],
   "source": [
    "X_5 = pd.DataFrame()\n",
    "\n",
    "X_5[\"MedNhbdArea\"] = df.groupby(\"Neighborhood\")[\"GrLivArea\"].transform(\"median\")\n",
    "\n",
    "# Check your answer\n",
    "q_5.check()"
   ]
  },
  {
   "cell_type": "code",
   "execution_count": 12,
   "id": "e457443e",
   "metadata": {
    "execution": {
     "iopub.execute_input": "2023-06-11T16:23:39.358852Z",
     "iopub.status.busy": "2023-06-11T16:23:39.357606Z",
     "iopub.status.idle": "2023-06-11T16:23:39.362428Z",
     "shell.execute_reply": "2023-06-11T16:23:39.361307Z"
    },
    "lines_to_next_cell": 0,
    "papermill": {
     "duration": 0.018281,
     "end_time": "2023-06-11T16:23:39.364922",
     "exception": false,
     "start_time": "2023-06-11T16:23:39.346641",
     "status": "completed"
    },
    "tags": []
   },
   "outputs": [],
   "source": [
    "# Lines below will give you a hint or solution code\n",
    "#q_5.hint()\n",
    "#q_5.solution()"
   ]
  },
  {
   "cell_type": "markdown",
   "id": "02a8f57d",
   "metadata": {
    "papermill": {
     "duration": 0.00929,
     "end_time": "2023-06-11T16:23:39.383995",
     "exception": false,
     "start_time": "2023-06-11T16:23:39.374705",
     "status": "completed"
    },
    "tags": []
   },
   "source": [
    "Now you've made your first new feature set! If you like, you can run the cell below to score the model with all of your new features added:"
   ]
  },
  {
   "cell_type": "code",
   "execution_count": 13,
   "id": "e065a25a",
   "metadata": {
    "execution": {
     "iopub.execute_input": "2023-06-11T16:23:39.404942Z",
     "iopub.status.busy": "2023-06-11T16:23:39.404164Z",
     "iopub.status.idle": "2023-06-11T16:23:43.548766Z",
     "shell.execute_reply": "2023-06-11T16:23:43.547778Z"
    },
    "papermill": {
     "duration": 4.158256,
     "end_time": "2023-06-11T16:23:43.551694",
     "exception": false,
     "start_time": "2023-06-11T16:23:39.393438",
     "status": "completed"
    },
    "tags": []
   },
   "outputs": [
    {
     "data": {
      "text/plain": [
       "0.13865658070461215"
      ]
     },
     "execution_count": 13,
     "metadata": {},
     "output_type": "execute_result"
    }
   ],
   "source": [
    "X_new = X.join([X_1, X_2, X_3, X_4, X_5])\n",
    "score_dataset(X_new, y)"
   ]
  },
  {
   "cell_type": "markdown",
   "id": "04548400",
   "metadata": {
    "papermill": {
     "duration": 0.009292,
     "end_time": "2023-06-11T16:23:43.571426",
     "exception": false,
     "start_time": "2023-06-11T16:23:43.562134",
     "status": "completed"
    },
    "tags": []
   },
   "source": [
    "# Keep Going #\n",
    "\n",
    "[**Untangle spatial relationships**](https://www.kaggle.com/ryanholbrook/clustering-with-k-means) by adding cluster labels to your dataset."
   ]
  },
  {
   "cell_type": "markdown",
   "id": "7d17da99",
   "metadata": {
    "papermill": {
     "duration": 0.009346,
     "end_time": "2023-06-11T16:23:43.590360",
     "exception": false,
     "start_time": "2023-06-11T16:23:43.581014",
     "status": "completed"
    },
    "tags": []
   },
   "source": [
    "---\n",
    "\n",
    "\n",
    "\n",
    "\n",
    "*Have questions or comments? Visit the [course discussion forum](https://www.kaggle.com/learn/feature-engineering/discussion) to chat with other learners.*"
   ]
  }
 ],
 "metadata": {
  "kernelspec": {
   "display_name": "Python 3",
   "language": "python",
   "name": "python3"
  },
  "language_info": {
   "codemirror_mode": {
    "name": "ipython",
    "version": 3
   },
   "file_extension": ".py",
   "mimetype": "text/x-python",
   "name": "python",
   "nbconvert_exporter": "python",
   "pygments_lexer": "ipython3",
   "version": "3.10.10"
  },
  "papermill": {
   "default_parameters": {},
   "duration": 19.30867,
   "end_time": "2023-06-11T16:23:44.623443",
   "environment_variables": {},
   "exception": null,
   "input_path": "__notebook__.ipynb",
   "output_path": "__notebook__.ipynb",
   "parameters": {},
   "start_time": "2023-06-11T16:23:25.314773",
   "version": "2.4.0"
  }
 },
 "nbformat": 4,
 "nbformat_minor": 5
}
